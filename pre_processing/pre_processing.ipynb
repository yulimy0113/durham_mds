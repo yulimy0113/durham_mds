{
 "cells": [
  {
   "cell_type": "markdown",
   "metadata": {},
   "source": [
    "# Basic Pre-processing"
   ]
  },
  {
   "cell_type": "code",
   "execution_count": null,
   "metadata": {},
   "outputs": [
    {
     "ename": "",
     "evalue": "",
     "output_type": "error",
     "traceback": [
      "\u001b[1;31m无法启动 Kernel。 \n",
      "\u001b[1;31mBad file descriptor (C:\\ci\\zeromq_1616055400030\\work\\src\\epoll.cpp:100). \n",
      "\u001b[1;31m有关更多详细信息，请查看 Jupyter <a href='command:jupyter.viewOutput'>log</a>。"
     ]
    }
   ],
   "source": [
    "import pandas as pd\n",
    "import numpy as np\n",
    "\n",
    "file_path = \"C:/Users/凡/Desktop/project/durham_mds/data/PDNTBA pKa scans.xlsx\"\n",
    "sheet_name = \"pdntba20mmscan2\"\n",
    "\n",
    "data = pd.read_excel(file_path,sheet_name,engine = \"openpyxl\")\n",
    "\n",
    "\n",
    "\n",
    "def edit_df(df, i, j):\n",
    "    \"\"\"\n",
    "    function to drop empty cells and separate the type of additive compound and its volume.\n",
    "    df: pd.DataFrame\n",
    "        headers include information about the amount of HCl,\n",
    "        the first row has wavelength and absorbance like header row,\n",
    "        other cells have numerical values,\n",
    "        there are some unnecessary & missing values as well.\n",
    "    i: int, start column\n",
    "    j: int, end column\n",
    "    \"\"\"\n",
    "    # Remove null values of each HCl column.\n",
    "    temp = df.iloc[1:, i:j].dropna()\n",
    "    \n",
    "    # Take the information about the additive & the amount of it from the header.\n",
    "    cols = temp.columns\n",
    "    add = (cols[0]).split(' ')\n",
    "    if add[-1] != \"hcl\":\n",
    "        additive = 'hcl'\n",
    "        vol = 0\n",
    "    else:\n",
    "        additive = add[-1]\n",
    "        vol = eval(add[0])\n",
    "    temp = temp.rename(columns = {cols[0] : \"wavelength\",\n",
    "                                 cols[1] : \"absorbance\"})\n",
    "    temp['additive'] = additive\n",
    "    temp['volume(mm)'] = vol\n",
    "    return temp\n",
    "\n",
    "\n",
    "def data_transformer(df):\n",
    "    \"\"\"\n",
    "    function to transform the shape of dataframe.\n",
    "    df: pd.DataFrame\n",
    "    \"\"\"\n",
    "    # Remove unnecessary cells by detercting an empty row.\n",
    "    df = df.dropna(axis = 1,\n",
    "                  how = \"all\")\n",
    "    idx = df.index[data.isnull().all(axis=1)].tolist()\n",
    "    if len(idx) > 0:\n",
    "        df = df.iloc[:idx[0], :]\n",
    "    \n",
    "    # Create the transformed data frame.\n",
    "    transformed_df = pd.DataFrame()\n",
    "    iter = int(len(df.columns) // 2)\n",
    "    for i in range(iter):\n",
    "        temp = edit_df(df, (2 * i), (2 * i + 2))\n",
    "        transformed_df = pd.concat([transformed_df, temp])\n",
    "\n",
    "    return transformed_df.reset_index(drop = True)\n",
    "\n",
    "\n",
    "    \n",
    "# Run the code below after uncommenting them.\n",
    "df = data_transformer(data)\n",
    "    \n",
    "# If you want to pivot the table,\n",
    "pivot_df = pd.pivot_table(df,\n",
    "                           columns=\"wavelength\",\n",
    "                           index=\"volume(mm)\",\n",
    "                           values=\"absorbance\")\n",
    "print(pivot_df)\n",
    "print(df)"
   ]
  },
  {
   "cell_type": "code",
   "execution_count": null,
   "metadata": {},
   "outputs": [
    {
     "ename": "",
     "evalue": "",
     "output_type": "error",
     "traceback": [
      "\u001b[1;31m无法启动 Kernel。 \n",
      "\u001b[1;31mBad file descriptor (C:\\ci\\zeromq_1616055400030\\work\\src\\epoll.cpp:100). \n",
      "\u001b[1;31m有关更多详细信息，请查看 Jupyter <a href='command:jupyter.viewOutput'>log</a>。"
     ]
    }
   ],
   "source": [
    "# Convert all columns to numeric, forcing errors to NaN if conversion fails\n",
    "pivot_df = pivot_df.apply(pd.to_numeric, errors='coerce')\n",
    "\n",
    "# Now apply the interpolation\n",
    "df_new = pivot_df.interpolate(method='linear', axis=1)\n",
    "\n",
    "print(df_new)"
   ]
  },
  {
   "cell_type": "markdown",
   "metadata": {},
   "source": [
    "# Visualization"
   ]
  },
  {
   "cell_type": "code",
   "execution_count": null,
   "metadata": {},
   "outputs": [
    {
     "ename": "",
     "evalue": "",
     "output_type": "error",
     "traceback": [
      "\u001b[1;31m无法启动 Kernel。 \n",
      "\u001b[1;31mBad file descriptor (C:\\ci\\zeromq_1616055400030\\work\\src\\epoll.cpp:100). \n",
      "\u001b[1;31m有关更多详细信息，请查看 Jupyter <a href='command:jupyter.viewOutput'>log</a>。"
     ]
    }
   ],
   "source": [
    "import matplotlib.pyplot as plt\n",
    "\n",
    "def plot_2d(df):\n",
    "    \"\"\"\n",
    "    function to visualize the dataframe in a two-dimensional view\n",
    "    df: pd. Dataframe\n",
    "    \"\"\"\n",
    "    # Assuming `pivot_df_interpolated` is your DataFrame\n",
    "    df.T.plot(figsize=(12, 8))\n",
    "    plt.xlabel('Wavelength')\n",
    "    plt.ylabel('Absorbance')\n",
    "    plt.title('Abosorbance vs. Wavelength')\n",
    "    plt.legend(title='Volume (ml)', bbox_to_anchor=(1.05, 1), loc='upper left')\n",
    "    plt.grid(True)\n",
    "    plt.show()\n",
    "# Run the code below after uncommenting them.\n",
    "# plot_2d(df_new)"
   ]
  },
  {
   "cell_type": "code",
   "execution_count": null,
   "metadata": {},
   "outputs": [
    {
     "ename": "",
     "evalue": "",
     "output_type": "error",
     "traceback": [
      "\u001b[1;31m无法启动 Kernel。 \n",
      "\u001b[1;31mBad file descriptor (C:\\ci\\zeromq_1616055400030\\work\\src\\epoll.cpp:100). \n",
      "\u001b[1;31m有关更多详细信息，请查看 Jupyter <a href='command:jupyter.viewOutput'>log</a>。"
     ]
    }
   ],
   "source": [
    "from mpl_toolkits.mplot3d import Axes3D\n",
    "import numpy as np\n",
    "\n",
    "def plot_3d(df):\n",
    "    \"\"\"\n",
    "    function to visualize the dataframe in a three-dimensional view\n",
    "    df:pd.Dataframe\n",
    "    \"\"\"\n",
    "    fig = plt.figure(figsize=(12, 8))\n",
    "    ax = fig.add_subplot(111, projection='3d')\n",
    "\n",
    "    X, Y = np.meshgrid(df.columns, df.index)\n",
    "    Z = df.values\n",
    "\n",
    "    ax.plot_surface(X, Y, Z, cmap='viridis')\n",
    "\n",
    "    ax.set_xlabel('Wavelength')\n",
    "    ax.set_ylabel('Volume (ml)')\n",
    "    ax.set_zlabel('Absorbance')\n",
    "    ax.set_title('3D Surface Plot of Volume vs. Wavelength')\n",
    "\n",
    "    plt.show()\n",
    "# Run the code below after uncommenting them.\n",
    "# plot_3d(df_new)\n"
   ]
  },
  {
   "cell_type": "markdown",
   "metadata": {},
   "source": [
    "# Further Pre-processing"
   ]
  },
  {
   "cell_type": "code",
   "execution_count": null,
   "metadata": {},
   "outputs": [
    {
     "ename": "",
     "evalue": "",
     "output_type": "error",
     "traceback": [
      "\u001b[1;31m无法启动 Kernel。 \n",
      "\u001b[1;31mBad file descriptor (C:\\ci\\zeromq_1616055400030\\work\\src\\epoll.cpp:100). \n",
      "\u001b[1;31m有关更多详细信息，请查看 Jupyter <a href='command:jupyter.viewOutput'>log</a>。"
     ]
    }
   ],
   "source": [
    "# Filter out the columns where the wavelength is less than 235\n",
    "filtered_df = df_new.loc[:, (df_new.columns >= 234) & (df_new.columns <= 400)]\n",
    "\n",
    "# Now `filtered_df` contains only the data where the wavelength is 235 or greater\n",
    "print(filtered_df)\n",
    "plot_2d(filtered_df)"
   ]
  },
  {
   "cell_type": "code",
   "execution_count": null,
   "metadata": {},
   "outputs": [
    {
     "ename": "",
     "evalue": "",
     "output_type": "error",
     "traceback": [
      "\u001b[1;31m无法启动 Kernel。 \n",
      "\u001b[1;31mBad file descriptor (C:\\ci\\zeromq_1616055400030\\work\\src\\epoll.cpp:100). \n",
      "\u001b[1;31m有关更多详细信息，请查看 Jupyter <a href='command:jupyter.viewOutput'>log</a>。"
     ]
    }
   ],
   "source": [
    "import pandas as pd\n",
    "# Subtract the first row from all rows\n",
    "spec_diff = filtered_df.subtract(filtered_df.iloc[0], axis=1)\n",
    "\n",
    "# Print or display the processed DataFrame\n",
    "print(spec_diff)\n",
    "plot_2d(spec_diff)"
   ]
  },
  {
   "cell_type": "code",
   "execution_count": null,
   "metadata": {},
   "outputs": [
    {
     "ename": "",
     "evalue": "",
     "output_type": "error",
     "traceback": [
      "\u001b[1;31m无法启动 Kernel。 \n",
      "\u001b[1;31mBad file descriptor (C:\\ci\\zeromq_1616055400030\\work\\src\\epoll.cpp:100). \n",
      "\u001b[1;31m有关更多详细信息，请查看 Jupyter <a href='command:jupyter.viewOutput'>log</a>。"
     ]
    }
   ],
   "source": [
    "import numpy as np\n",
    "import matplotlib.pyplot as plt\n",
    "from scipy.signal import find_peaks\n",
    "from sklearn.cluster import DBSCAN\n",
    "\n",
    "def find_and_cluster_peaks(df, height=0.01, distance=5, eps=10, min_samples=1):\n",
    "    \"\"\"\n",
    "    Function to find peaks in the absorbance variance, cluster them using DBSCAN, and plot the results.\n",
    "    \n",
    "    Parameters:\n",
    "    df : pd.DataFrame\n",
    "        A DataFrame where each row represents different volumes (indexed by volume),\n",
    "        and each column represents different wavelengths. The DataFrame contains\n",
    "        absorbance data.\n",
    "    height : float, optional, default=0.02\n",
    "        Minimum height of peaks to be detected in the variance.\n",
    "    distance : int, optional, default=5\n",
    "        Minimum distance between peaks to be detected.\n",
    "    eps : float, optional, default=10\n",
    "        The maximum distance between two samples for one to be considered as in the neighborhood of the other\n",
    "        for DBSCAN clustering.\n",
    "    min_samples : int, optional, default=1\n",
    "        The number of samples in a neighborhood for a point to be considered as a core point for DBSCAN clustering.\n",
    "    \n",
    "    Returns:\n",
    "    final_wavelengths : list\n",
    "        A list of the most significant wavelengths selected from each cluster.\n",
    "    \"\"\"\n",
    "\n",
    "    # Calculate variance of absorbance across wavelengths\n",
    "    absorbance_variance = df.var(axis=0)\n",
    "\n",
    "    # Find peaks in the absorbance variance\n",
    "    peaks, _ = find_peaks(absorbance_variance, height=height, distance=distance)\n",
    "    peak_wavelengths = df.columns[peaks]\n",
    "    peak_variances = absorbance_variance.iloc[peaks]\n",
    "\n",
    "    # Plot the variance and detected peaks\n",
    "    absorbance_variance.plot(figsize=(12, 6), label='Variance')\n",
    "    plt.plot(peak_wavelengths, peak_variances, \"x\", label='Detected Peaks')\n",
    "\n",
    "    # Convert peak_wavelengths to a NumPy array and reshape it for DBSCAN\n",
    "    peak_wavelengths_array = peak_wavelengths.to_numpy().reshape(-1, 1)\n",
    "    \n",
    "    # Apply DBSCAN clustering\n",
    "    clustering = DBSCAN(eps=eps, min_samples=min_samples).fit(peak_wavelengths_array)\n",
    "    labels = clustering.labels_\n",
    "\n",
    "    # Select the most significant peak within each cluster\n",
    "    final_wavelengths = []\n",
    "    for label in np.unique(labels):\n",
    "        cluster_indices = np.where(labels == label)[0]\n",
    "        cluster_peaks = peak_wavelengths[cluster_indices]\n",
    "        cluster_variances = peak_variances.iloc[cluster_indices]\n",
    "        most_significant_peak = cluster_peaks[np.argmax(cluster_variances)]\n",
    "        final_wavelengths.append(most_significant_peak)\n",
    "\n",
    "    # Highlight significant wavelengths on the plot\n",
    "    for wavelength in final_wavelengths:\n",
    "        plt.axvline(x=wavelength, color='red', linestyle='--', label=f'{wavelength:.1f} nm')\n",
    "\n",
    "    plt.xlabel('Wavelength (nm)')\n",
    "    plt.ylabel('Variance')\n",
    "    plt.title('Variance of Absorbance Across Wavelengths with Detected Peaks')\n",
    "    plt.legend(title='Wavelength', bbox_to_anchor=(0, 1), loc='upper left', ncol=1)\n",
    "    plt.grid(True)\n",
    "    plt.show()\n",
    "    \n",
    "    print(\"Final significant wavelengths:\", final_wavelengths)\n",
    "    return final_wavelengths\n",
    "\n",
    "# Run the code below after uncommenting them.\n",
    "final_wavelengths = find_and_cluster_peaks(filtered_df)\n"
   ]
  },
  {
   "cell_type": "code",
   "execution_count": null,
   "metadata": {},
   "outputs": [
    {
     "ename": "",
     "evalue": "",
     "output_type": "error",
     "traceback": [
      "\u001b[1;31m无法启动 Kernel。 \n",
      "\u001b[1;31mBad file descriptor (C:\\ci\\zeromq_1616055400030\\work\\src\\epoll.cpp:100). \n",
      "\u001b[1;31m有关更多详细信息，请查看 Jupyter <a href='command:jupyter.viewOutput'>log</a>。"
     ]
    }
   ],
   "source": [
    "import numpy as np\n",
    "import matplotlib.pyplot as plt\n",
    "from scipy.optimize import curve_fit\n",
    "\n",
    "def plot_sigmoidal_fit_for_wavelengths(spec_diff, final_wavelengths):\n",
    "    \"\"\"\n",
    "    Function to generate and plot sigmoidal fits for total absorbance differences\n",
    "    across various pH levels at significant wavelengths.\n",
    "    \n",
    "    Parameters:\n",
    "    spec_diff : pd.DataFrame\n",
    "        A DataFrame where each row represents different volumes (indexed by volume),\n",
    "        and each column represents different wavelengths. The DataFrame contains\n",
    "        absorbance data.\n",
    "    final_wavelengths : list or np.array\n",
    "        A list or array of significant wavelengths for which the sigmoidal fits\n",
    "        should be generated.\n",
    "    \n",
    "    Returns:\n",
    "    None. The function generates and displays a plot for each wavelength.\n",
    "    \"\"\"\n",
    "    \n",
    "    # Define the pH mapping for the volumes\n",
    "    pH_mapping = {\n",
    "        '0': 2,\n",
    "        '10': 1.885,\n",
    "        '15': 1.707,\n",
    "        '20': 1.611,\n",
    "        '25': 1.506,\n",
    "        '30': 1.404,\n",
    "        '40': 1.264,\n",
    "        '50': 1.184,\n",
    "        '60': 1.105,\n",
    "        '100': 0.878,\n",
    "        '500': 0.3\n",
    "    }\n",
    "    \n",
    "    # Map the volumes in spec_diff.index to corresponding pH values\n",
    "    pH_values = np.array([pH_mapping[str(volume)] for volume in spec_diff.index])\n",
    "    \n",
    "    # Loop over each significant wavelength and generate a separate plot\n",
    "    for wavelength in final_wavelengths:\n",
    "        # Find the nearest wavelength in the DataFrame columns\n",
    "        closest_wavelength_index = (np.abs(spec_diff.columns.astype(float) - wavelength)).argmin()\n",
    "        closest_wavelength = spec_diff.columns[closest_wavelength_index]\n",
    "        \n",
    "        # Calculate the total absorbance difference for this wavelength\n",
    "        total_abs_diff = spec_diff.iloc[:, closest_wavelength_index].abs()\n",
    "        \n",
    "        # Define the sigmoidal function for fitting\n",
    "        def sigmoid(pH, pKa, a, b):\n",
    "            return a / (1 + np.exp(-(pH - pKa) * 2)) + b\n",
    "        \n",
    "        # Fit the combined data using the pH values and total absorbance differences\n",
    "        p0 = [6.5, max(total_abs_diff) - min(total_abs_diff), min(total_abs_diff)]  # Initial guess\n",
    "        popt, _ = curve_fit(sigmoid, pH_values, total_abs_diff, p0, maxfev=10000)\n",
    "        \n",
    "        # Extract the pKa value from the fitted parameters\n",
    "        pKa_value = popt[0]\n",
    "        \n",
    "        # Generate a pH range for plotting the fit\n",
    "        pH_range = np.linspace(min(pH_values), max(pH_values), 500)\n",
    "        fit = sigmoid(pH_range, *popt)\n",
    "        \n",
    "        # Plot the fit against the combined data\n",
    "        plt.figure(figsize=(8, 6))\n",
    "        plt.scatter(pH_values, total_abs_diff, color='black', label='Experimental Data')\n",
    "        plt.plot(pH_range, fit, label=f'Fit (pKa = {pKa_value:.2f})', color='red')\n",
    "        plt.xlabel('pH')\n",
    "        plt.ylabel('Total Absorbance Difference')\n",
    "        plt.title(f'Total Absorbance Difference vs pH at {closest_wavelength} nm')\n",
    "        plt.legend(loc='upper left')\n",
    "        plt.grid(True)\n",
    "        plt.show()\n",
    "        \n",
    "        # Print the determined pKa value\n",
    "        print(f'Wavelength: {closest_wavelength} nm, Determined pKa value: {pKa_value:.2f}')\n",
    "# Run the code below after uncommenting them.\n",
    "# plot_sigmoidal_fit_for_wavelengths(spec_diff, final_wavelengths)"
   ]
  },
  {
   "cell_type": "code",
   "execution_count": null,
   "metadata": {},
   "outputs": [
    {
     "ename": "",
     "evalue": "",
     "output_type": "error",
     "traceback": [
      "\u001b[1;31m无法启动 Kernel。 \n",
      "\u001b[1;31mBad file descriptor (C:\\ci\\zeromq_1616055400030\\work\\src\\epoll.cpp:100). \n",
      "\u001b[1;31m有关更多详细信息，请查看 Jupyter <a href='command:jupyter.viewOutput'>log</a>。"
     ]
    }
   ],
   "source": [
    "# Modify the function to return a single fluctuation value for the selected wavelength\n",
    "def quantify_total_fluctuation(df, selected_wavelength, window=3):\n",
    "    \"\"\"\n",
    "    Quantifies the total fluctuation in absorbance values around a selected wavelength.\n",
    "    \n",
    "    Parameters:\n",
    "    df : pd.DataFrame\n",
    "        The DataFrame containing absorbance data with wavelengths as columns.\n",
    "    selected_wavelength : float\n",
    "        The wavelength around which fluctuation is to be quantified.\n",
    "    window : int, optional, default=5\n",
    "        The window size (in nm) to consider on either side of the selected wavelength.\n",
    "    \n",
    "    Returns:\n",
    "    total_fluctuation : float\n",
    "        The total fluctuation (sum of standard deviations) across all volumes.\n",
    "    \"\"\"\n",
    "    # Select the range of wavelengths within ±window nm of the selected wavelength\n",
    "    wavelength_range = df.loc[:, (df.columns >= selected_wavelength - window) & \n",
    "                                   (df.columns <= selected_wavelength + window)]\n",
    "    \n",
    "    # Calculate the standard deviation across the wavelength range for each volume (row)\n",
    "    fluctuation_df = wavelength_range.std(axis=1)\n",
    "    \n",
    "    # Sum up all the fluctuation values to return a single number\n",
    "    total_fluctuation = fluctuation_df.sum()\n",
    "    \n",
    "    return 1/total_fluctuation\n",
    "\n",
    "# Calculate total fluctuation for the selected wavelength (243.87 nm)\n",
    "total_fluctuation_value1 = quantify_total_fluctuation(filtered_df, selected_wavelength=243.87)\n",
    "total_fluctuation_value2 = quantify_total_fluctuation(filtered_df, selected_wavelength=317.81)\n",
    "\n",
    "# Display the result\n",
    "print(total_fluctuation_value1,total_fluctuation_value2)\n"
   ]
  },
  {
   "cell_type": "code",
   "execution_count": null,
   "metadata": {},
   "outputs": [
    {
     "ename": "",
     "evalue": "",
     "output_type": "error",
     "traceback": [
      "\u001b[1;31m无法启动 Kernel。 \n",
      "\u001b[1;31mBad file descriptor (C:\\ci\\zeromq_1616055400030\\work\\src\\epoll.cpp:100). \n",
      "\u001b[1;31m有关更多详细信息，请查看 Jupyter <a href='command:jupyter.viewOutput'>log</a>。"
     ]
    }
   ],
   "source": [
    "from sklearn.decomposition import PCA\n",
    "from sklearn.preprocessing import StandardScaler\n",
    "\n",
    "# Apply StandardScaler and PCA on filtered_df without transposing\n",
    "# Rows represent volumes, and columns represent wavelengths\n",
    "scaler = StandardScaler()\n",
    "scaled_data = scaler.fit_transform(filtered_df)  # No transpose here\n",
    "\n",
    "# Apply PCA to reduce dimensionality across volumes\n",
    "pca = PCA(n_components=5)  # Reducing to the first 5 principal components\n",
    "pca_result = pca.fit_transform(scaled_data)\n",
    "\n",
    "# Store the explained variance ratio\n",
    "explained_variance = pca.explained_variance_ratio_\n",
    "\n",
    "# Convert the PCA results back into a DataFrame for further analysis\n",
    "# Each row represents a volume and each column is a principal component (PC1, PC2, ...)\n",
    "pca_df = pd.DataFrame(pca_result, columns=[f'PC{i+1}' for i in range(pca.n_components_)], index=filtered_df.index)\n",
    "\n",
    "# Display the explained variance by each component and preview the PCA-transformed data\n",
    "explained_variance, pca_df.head()\n"
   ]
  },
  {
   "cell_type": "code",
   "execution_count": null,
   "metadata": {},
   "outputs": [
    {
     "ename": "",
     "evalue": "",
     "output_type": "error",
     "traceback": [
      "\u001b[1;31m无法启动 Kernel。 \n",
      "\u001b[1;31mBad file descriptor (C:\\ci\\zeromq_1616055400030\\work\\src\\epoll.cpp:100). \n",
      "\u001b[1;31m有关更多详细信息，请查看 Jupyter <a href='command:jupyter.viewOutput'>log</a>。"
     ]
    }
   ],
   "source": [
    "# Select the first row of the PCA-transformed data\n",
    "first_row_pca = pca_df.iloc[0]\n",
    "\n",
    "# Subtract the first row from all rows in the PCA-transformed data\n",
    "pca_spec_diff = pca_df.subtract(first_row_pca, axis=1)"
   ]
  },
  {
   "cell_type": "code",
   "execution_count": null,
   "metadata": {},
   "outputs": [
    {
     "ename": "",
     "evalue": "",
     "output_type": "error",
     "traceback": [
      "\u001b[1;31m无法启动 Kernel。 \n",
      "\u001b[1;31mBad file descriptor (C:\\ci\\zeromq_1616055400030\\work\\src\\epoll.cpp:100). \n",
      "\u001b[1;31m有关更多详细信息，请查看 Jupyter <a href='command:jupyter.viewOutput'>log</a>。"
     ]
    }
   ],
   "source": [
    "def plot_explained_variance(explained_variance):\n",
    "    \"\"\"\n",
    "    Plot the explained variance of the principal components.\n",
    "    \"\"\"\n",
    "    plt.figure(figsize=(8, 5))\n",
    "    plt.bar(range(1, len(explained_variance) + 1), explained_variance * 100, color='green')\n",
    "    plt.xlabel('Principal Components')\n",
    "    plt.ylabel('Variance Explained (%)')\n",
    "    plt.title('Variance Explained by Principal Components')\n",
    "    plt.show()\n",
    "\n",
    "# Call the function to plot explained variance\n",
    "plot_explained_variance(explained_variance)\n"
   ]
  },
  {
   "cell_type": "code",
   "execution_count": null,
   "metadata": {},
   "outputs": [
    {
     "ename": "",
     "evalue": "",
     "output_type": "error",
     "traceback": [
      "\u001b[1;31m无法启动 Kernel。 \n",
      "\u001b[1;31mBad file descriptor (C:\\ci\\zeromq_1616055400030\\work\\src\\epoll.cpp:100). \n",
      "\u001b[1;31m有关更多详细信息，请查看 Jupyter <a href='command:jupyter.viewOutput'>log</a>。"
     ]
    }
   ],
   "source": [
    "import numpy as np\n",
    "import matplotlib.pyplot as plt\n",
    "from scipy.optimize import curve_fit\n",
    "\n",
    "# pH mapping for the volumes in your dataset\n",
    "pH_values_dict =  {\n",
    "    '0': 2,\n",
    "    '10': 1.885,\n",
    "    '15': 1.707,\n",
    "    '20': 1.611,\n",
    "    '25': 1.506,\n",
    "    '30': 1.404,\n",
    "    '40': 1.264,\n",
    "    '50': 1.184,\n",
    "    '60': 1.105,\n",
    "    '100': 0.878,\n",
    "    '500': 0.3\n",
    "}\n",
    "\n",
    "# Extract the volumes from pca_df index\n",
    "volumes = pca_df.index.astype(str)\n",
    "\n",
    "# Create the corresponding pH values based on the volumes in the index\n",
    "pH_values = np.array([pH_values_dict[vol] for vol in volumes if vol in pH_values_dict])\n",
    "\n",
    "# Ensure that the length of pH_values matches the length of PC1\n",
    "assert len(pH_values) == len(pca_df['PC1']), \"pH_values and PC1 must have the same length.\"\n",
    "\n",
    "# Sigmoid function for fitting\n",
    "def sigmoid(pH, pKa, a, b):\n",
    "    return a / (1 + np.exp(-(pH - pKa) * 2)) + b\n",
    "\n",
    "# Adjust the initial guesses for the curve fitting\n",
    "# For example, starting with pKa ~ 1.0, a ~ max(PC1), and b ~ min(PC1)\n",
    "initial_pKa = 1.0  # Adjust based on expected pKa\n",
    "initial_a = max(pca_df['PC1']) - min(pca_df['PC1'])  # Based on the range of PC1 values\n",
    "initial_b = min(pca_df['PC1'])  # The lower end of the PC1 values\n",
    "\n",
    "# Fit the sigmoid curve to PC1\n",
    "popt, _ = curve_fit(sigmoid, pH_values, pca_df['PC1'], p0=[initial_pKa, initial_a, initial_b])\n",
    "\n",
    "# Plot the fit and data\n",
    "pH_range = np.linspace(min(pH_values), max(pH_values), 500)\n",
    "fit = sigmoid(pH_range, *popt)\n",
    "\n",
    "plt.scatter(pH_values, pca_df['PC1'], color='black', label='PC1 Data')\n",
    "plt.plot(pH_range, fit, color='red', label=f'Sigmoidal Fit (pKa = {popt[0]:.2f})')\n",
    "plt.xlabel('pH')\n",
    "plt.ylabel('PC1')\n",
    "plt.title('Sigmoidal Fit of PC1 vs pH')\n",
    "plt.legend()\n",
    "plt.grid(True)\n",
    "plt.show()\n",
    "\n",
    "# pKa value\n",
    "print(f\"Determined pKa value: {popt[0]:.2f}\")\n"
   ]
  }
 ],
 "metadata": {
  "kernelspec": {
   "display_name": "base",
   "language": "python",
   "name": "python3"
  },
  "language_info": {
   "codemirror_mode": {
    "name": "ipython",
    "version": 3
   },
   "file_extension": ".py",
   "mimetype": "text/x-python",
   "name": "python",
   "nbconvert_exporter": "python",
   "pygments_lexer": "ipython3",
   "version": "3.11.5"
  }
 },
 "nbformat": 4,
 "nbformat_minor": 2
}
